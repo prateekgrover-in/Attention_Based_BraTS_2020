{
  "nbformat": 4,
  "nbformat_minor": 0,
  "metadata": {
    "colab": {
      "name": "UNETR_Vis.ipynb",
      "provenance": [],
      "collapsed_sections": []
    },
    "kernelspec": {
      "name": "python3",
      "display_name": "Python 3"
    },
    "language_info": {
      "name": "python"
    },
    "accelerator": "GPU"
  },
  "cells": [
    {
      "cell_type": "code",
      "metadata": {
        "colab": {
          "base_uri": "https://localhost:8080/"
        },
        "id": "nUkn9a_OPSk5",
        "outputId": "84443dc3-bf51-481b-9164-a1354c730a93"
      },
      "source": [
        "from google.colab import drive\n",
        "drive.mount('/content/drive')"
      ],
      "execution_count": null,
      "outputs": [
        {
          "output_type": "stream",
          "name": "stdout",
          "text": [
            "Mounted at /content/drive\n"
          ]
        }
      ]
    },
    {
      "cell_type": "code",
      "metadata": {
        "id": "b6KfefzNHkHQ"
      },
      "source": [
        "# Importing all of the above\n",
        "\n",
        "import os\n",
        "import numpy as np\n",
        "import tensorflow as tf\n",
        "import torch\n",
        "from tensorflow.keras.utils import to_categorical\n",
        "import keras\n",
        "import keras.backend as K\n",
        "import matplotlib.pyplot as plt\n",
        "from matplotlib.pyplot import figure\n",
        "from scipy.interpolate import RegularGridInterpolator\n",
        "from sklearn.preprocessing import MinMaxScaler\n",
        "scaler = MinMaxScaler()"
      ],
      "execution_count": null,
      "outputs": []
    },
    {
      "cell_type": "code",
      "metadata": {
        "id": "lO8G6T-LQYBG"
      },
      "source": [
        "# Defining root directories for Images and Masks\n",
        "\n",
        "train_img_dir = \"/content/drive/MyDrive/MICCAI_BraTS2020_TrainingData/input_data_128/train/images/\"\n",
        "train_mask_dir = \"/content/drive/MyDrive/MICCAI_BraTS2020_TrainingData/input_data_128/train/masks/\""
      ],
      "execution_count": null,
      "outputs": []
    },
    {
      "cell_type": "code",
      "metadata": {
        "id": "h27W7n_5QoLx"
      },
      "source": [
        "# Collecting Data into NumPy arrays\n",
        "\n",
        "images = []\n",
        "masks = []\n",
        "\n",
        "for file in os.listdir(train_img_dir):\n",
        "    if (len(images) == 32):\n",
        "        break\n",
        "    images.append(np.load(train_img_dir + file))\n",
        "    mask = np.load(train_mask_dir + \"mask_\" + file[6:])\n",
        "    \n",
        "    # Combining the 4 Different Scans available into 1.  \n",
        "    mask = np.argmax(mask, axis=3)\n",
        "    masks.append(mask)\n",
        "\n",
        "images = np.array(images)\n",
        "masks = np.array(masks)"
      ],
      "execution_count": null,
      "outputs": []
    },
    {
      "cell_type": "code",
      "metadata": {
        "id": "LZjAts12QtYk"
      },
      "source": [
        "images = np.array(images)\n",
        "masks = np.array(masks)"
      ],
      "execution_count": null,
      "outputs": []
    },
    {
      "cell_type": "code",
      "metadata": {
        "colab": {
          "base_uri": "https://localhost:8080/"
        },
        "id": "qnVoo96TQxBx",
        "outputId": "a083ee50-99c2-4091-8288-b3d6309b02ba"
      },
      "source": [
        "# Understanding Dimensions of Data\n",
        "\n",
        "print(\"Shape of Images Data : \", images.shape)\n",
        "print(\"Shape of Classification Labels corresponding to them : \", masks.shape)"
      ],
      "execution_count": null,
      "outputs": [
        {
          "output_type": "stream",
          "name": "stdout",
          "text": [
            "Shape of Images Data :  (32, 128, 128, 128, 3)\n",
            "Shape of Classification Labels corresponding to them :  (32, 128, 128, 128)\n"
          ]
        }
      ]
    },
    {
      "cell_type": "code",
      "metadata": {
        "id": "kCJl5BY1M4_B"
      },
      "source": [
        "images = images[:16]\n",
        "masks = masks[:16]"
      ],
      "execution_count": null,
      "outputs": []
    },
    {
      "cell_type": "code",
      "metadata": {
        "id": "u8lqJ76VQznB"
      },
      "source": [
        "# Define a regrid() function, that helps in resizing an image\n",
        "# based on interpolation of pixels.\n",
        "\n",
        "def regrid(data, out_x, out_y):\n",
        "    m = max(data.shape[0], data.shape[1])\n",
        "    y = np.linspace(0, 1.0/m, data.shape[0])\n",
        "    x = np.linspace(0, 1.0/m, data.shape[1])\n",
        "    interpolating_function = RegularGridInterpolator((y, x), data)\n",
        "\n",
        "    yv, xv = np.meshgrid(np.linspace(0, 1.0/m, out_y), np.linspace(0, 1.0/m, out_x))\n",
        "\n",
        "    return interpolating_function((xv, yv))"
      ],
      "execution_count": null,
      "outputs": []
    },
    {
      "cell_type": "code",
      "metadata": {
        "id": "4H0KJoEQQ3vR"
      },
      "source": [
        "# Due to limited computation resources, we minimize the size\n",
        "# of each image in the 3D Volume from 256 x 256 to 64 x 64.\n",
        "\n",
        "minimized_size = 64\n",
        "\n",
        "small_images = []\n",
        "small_masks = []\n",
        "\n",
        "for i in range(0, len(images)):\n",
        "    image = images[i]\n",
        "    mask = masks[i]\n",
        "    curr_image = []\n",
        "    curr_mask = []\n",
        "    \n",
        "    for z in range(0, 128):\n",
        "        image_z_0 = image[:, :, z, 0]\n",
        "        image_z_1 = image[:, :, z, 1]\n",
        "        image_z_2 = image[:, :, z, 2]\n",
        "        image_z_0 = regrid(image_z_0, minimized_size, minimized_size)\n",
        "        image_z_1 = regrid(image_z_1, minimized_size, minimized_size)\n",
        "        image_z_2 = regrid(image_z_2, minimized_size, minimized_size)\n",
        "        curr_depth = np.stack([image_z_0, image_z_1, image_z_2])\n",
        "        curr_depth = np.moveaxis(curr_depth, -1, 0)\n",
        "        curr_depth = np.moveaxis(curr_depth, -1, 0)\n",
        "        curr_image.append(curr_depth)\n",
        "        mask_z = mask[:, :, z]\n",
        "        mask_z = np.array(np.round(regrid(mask_z, minimized_size, minimized_size)), dtype = 'uint8')\n",
        "        curr_mask.append(mask_z)\n",
        "    \n",
        "    small_images.append(np.array(curr_image))\n",
        "    small_masks.append(np.array(curr_mask))\n",
        "\n",
        "small_images = np.array(small_images)\n",
        "small_masks = np.array(small_masks)"
      ],
      "execution_count": null,
      "outputs": []
    },
    {
      "cell_type": "code",
      "metadata": {
        "colab": {
          "base_uri": "https://localhost:8080/"
        },
        "id": "G-H5kxGVQ6kq",
        "outputId": "3afecc22-0edf-4ac8-debb-4b2f1264c9e6"
      },
      "source": [
        "# Understanding Dimensions of Processed Data\n",
        "\n",
        "print(\"Shape of Images Data : \", small_images.shape)\n",
        "print(\"Shape of Classification Labels corresponding to them : \", small_masks.shape)"
      ],
      "execution_count": null,
      "outputs": [
        {
          "output_type": "stream",
          "name": "stdout",
          "text": [
            "Shape of Images Data :  (32, 128, 64, 64, 3)\n",
            "Shape of Classification Labels corresponding to them :  (32, 128, 64, 64)\n"
          ]
        }
      ]
    },
    {
      "cell_type": "code",
      "metadata": {
        "id": "bCsAqyKkQ9xF"
      },
      "source": [
        "# Dividing Processed Scans into Training and Testing Data\n",
        "from sklearn.model_selection import train_test_split\n",
        "X_train, X_test, y_train, y_test = train_test_split (small_images,\n",
        "                                                     small_masks,\n",
        "                                                     test_size=0.2,\n",
        "                                                     shuffle=True)"
      ],
      "execution_count": null,
      "outputs": []
    },
    {
      "cell_type": "code",
      "metadata": {
        "id": "BnmR6B3SRANU"
      },
      "source": [
        "y_train_cat = to_categorical(y_train, num_classes = 3)\n",
        "y_test_cat = to_categorical(y_test, num_classes = 3)"
      ],
      "execution_count": null,
      "outputs": []
    },
    {
      "cell_type": "code",
      "metadata": {
        "id": "tdiI2TEjAOmJ"
      },
      "source": [
        "import copy\n",
        "import torch\n",
        "import torch.nn as nn\n",
        "import torch.nn.functional as F\n",
        "import math\n",
        "\n",
        "\n",
        "class SingleDeconv3DBlock(nn.Module):\n",
        "    def __init__(self, in_planes, out_planes):\n",
        "        super().__init__()\n",
        "        self.block = nn.ConvTranspose3d(in_planes, out_planes, kernel_size=2, stride=2, padding=0, output_padding=0)\n",
        "\n",
        "    def forward(self, x):\n",
        "        return self.block(x)\n",
        "\n",
        "\n",
        "class SingleConv3DBlock(nn.Module):\n",
        "    def __init__(self, in_planes, out_planes, kernel_size):\n",
        "        super().__init__()\n",
        "        self.block = nn.Conv3d(in_planes, out_planes, kernel_size=kernel_size, stride=1,\n",
        "                               padding=((kernel_size - 1) // 2))\n",
        "\n",
        "    def forward(self, x):\n",
        "        return self.block(x)\n",
        "\n",
        "\n",
        "class Conv3DBlock(nn.Module):\n",
        "    def __init__(self, in_planes, out_planes, kernel_size=3):\n",
        "        super().__init__()\n",
        "        self.block = nn.Sequential(\n",
        "            SingleConv3DBlock(in_planes, out_planes, kernel_size),\n",
        "            nn.BatchNorm3d(out_planes),\n",
        "            nn.ReLU(True)\n",
        "        )\n",
        "\n",
        "    def forward(self, x):\n",
        "        return self.block(x)\n",
        "\n",
        "\n",
        "class Deconv3DBlock(nn.Module):\n",
        "    def __init__(self, in_planes, out_planes, kernel_size=3):\n",
        "        super().__init__()\n",
        "        self.block = nn.Sequential(\n",
        "            SingleDeconv3DBlock(in_planes, out_planes),\n",
        "            SingleConv3DBlock(out_planes, out_planes, kernel_size),\n",
        "            nn.BatchNorm3d(out_planes),\n",
        "            nn.ReLU(True)\n",
        "        )\n",
        "\n",
        "    def forward(self, x):\n",
        "        return self.block(x)\n",
        "\n",
        "\n",
        "class SelfAttention(nn.Module):\n",
        "    def __init__(self, num_heads, embed_dim, dropout):\n",
        "        super().__init__()\n",
        "        self.num_attention_heads = num_heads\n",
        "        self.attention_head_size = int(embed_dim / num_heads)\n",
        "        self.all_head_size = self.num_attention_heads * self.attention_head_size\n",
        "\n",
        "        self.query = nn.Linear(embed_dim, self.all_head_size)\n",
        "        self.key = nn.Linear(embed_dim, self.all_head_size)\n",
        "        self.value = nn.Linear(embed_dim, self.all_head_size)\n",
        "\n",
        "        self.out = nn.Linear(embed_dim, embed_dim)\n",
        "        self.attn_dropout = nn.Dropout(dropout)\n",
        "        self.proj_dropout = nn.Dropout(dropout)\n",
        "\n",
        "        self.softmax = nn.Softmax(dim=-1)\n",
        "\n",
        "        self.vis = False\n",
        "\n",
        "    def transpose_for_scores(self, x):\n",
        "        new_x_shape = x.size()[:-1] + (self.num_attention_heads, self.attention_head_size)\n",
        "        x = x.view(*new_x_shape)\n",
        "        return x.permute(0, 2, 1, 3)\n",
        "\n",
        "    def forward(self, hidden_states):\n",
        "        mixed_query_layer = self.query(hidden_states)\n",
        "        mixed_key_layer = self.key(hidden_states)\n",
        "        mixed_value_layer = self.value(hidden_states)\n",
        "\n",
        "        query_layer = self.transpose_for_scores(mixed_query_layer)\n",
        "        key_layer = self.transpose_for_scores(mixed_key_layer)\n",
        "        value_layer = self.transpose_for_scores(mixed_value_layer)\n",
        "\n",
        "        attention_scores = torch.matmul(query_layer, key_layer.transpose(-1, -2))\n",
        "        attention_scores = attention_scores / math.sqrt(self.attention_head_size)\n",
        "        attention_probs = self.softmax(attention_scores)\n",
        "        weights = attention_probs if self.vis else None\n",
        "        attention_probs = self.attn_dropout(attention_probs)\n",
        "\n",
        "        context_layer = torch.matmul(attention_probs, value_layer)\n",
        "        context_layer = context_layer.permute(0, 2, 1, 3).contiguous()\n",
        "        new_context_layer_shape = context_layer.size()[:-2] + (self.all_head_size,)\n",
        "        context_layer = context_layer.view(*new_context_layer_shape)\n",
        "        attention_output = self.out(context_layer)\n",
        "        attention_output = self.proj_dropout(attention_output)\n",
        "        return attention_output, weights\n",
        "\n",
        "\n",
        "class Mlp(nn.Module):\n",
        "    def __init__(self, in_features, act_layer=nn.GELU, drop=0.):\n",
        "        super().__init__()\n",
        "        self.fc1 = nn.Linear(in_features, in_features)\n",
        "        self.act = act_layer()\n",
        "        self.drop = nn.Dropout(drop)\n",
        "\n",
        "    def forward(self, x):\n",
        "        x = self.fc1()\n",
        "        x = self.act(x)\n",
        "        x = self.drop(x)\n",
        "        return x\n",
        "\n",
        "\n",
        "class PositionwiseFeedForward(nn.Module):\n",
        "    def __init__(self, d_model=786, d_ff=2048, dropout=0.1):\n",
        "        super().__init__()\n",
        "        # Torch linears have a `b` by default.\n",
        "        self.w_1 = nn.Linear(d_model, d_ff)\n",
        "        self.w_2 = nn.Linear(d_ff, d_model)\n",
        "        self.dropout = nn.Dropout(dropout)\n",
        "\n",
        "    def forward(self, x):\n",
        "        return self.w_2(self.dropout(F.relu(self.w_1(x))))\n",
        "\n",
        "\n",
        "class Embeddings(nn.Module):\n",
        "    def __init__(self, input_dim, embed_dim, cube_size, patch_size, dropout):\n",
        "        super().__init__()\n",
        "        self.n_patches = int((cube_size[0] * cube_size[1] * cube_size[2]) / (patch_size * patch_size * patch_size))\n",
        "        self.patch_size = patch_size\n",
        "        self.embed_dim = embed_dim\n",
        "        self.patch_embeddings = nn.Conv3d(in_channels=input_dim, out_channels=embed_dim,\n",
        "                                          kernel_size=patch_size, stride=patch_size)\n",
        "        self.position_embeddings = nn.Parameter(torch.zeros(1, self.n_patches, embed_dim))\n",
        "        self.dropout = nn.Dropout(dropout)\n",
        "\n",
        "    def forward(self, x):\n",
        "        x = self.patch_embeddings(x)\n",
        "        x = x.flatten(2)\n",
        "        x = x.transpose(-1, -2)\n",
        "        embeddings = x + self.position_embeddings\n",
        "        embeddings = self.dropout(embeddings)\n",
        "        return embeddings\n",
        "\n",
        "\n",
        "class TransformerBlock(nn.Module):\n",
        "    def __init__(self, embed_dim, num_heads, dropout, cube_size, patch_size):\n",
        "        super().__init__()\n",
        "        self.attention_norm = nn.LayerNorm(embed_dim, eps=1e-6)\n",
        "        self.mlp_norm = nn.LayerNorm(embed_dim, eps=1e-6)\n",
        "        self.mlp_dim = int((cube_size[0] * cube_size[1] * cube_size[2]) / (patch_size * patch_size * patch_size))\n",
        "        self.mlp = PositionwiseFeedForward(embed_dim, 2048)\n",
        "        self.attn = SelfAttention(num_heads, embed_dim, dropout)\n",
        "\n",
        "    def forward(self, x):\n",
        "        h = x\n",
        "        x = self.attention_norm(x)\n",
        "        x, weights = self.attn(x)\n",
        "        x = x + h\n",
        "        h = x\n",
        "\n",
        "        x = self.mlp_norm(x)\n",
        "        x = self.mlp(x)\n",
        "\n",
        "        x = x + h\n",
        "        return x, weights\n",
        "\n",
        "\n",
        "class Transformer(nn.Module):\n",
        "    def __init__(self, input_dim, embed_dim, cube_size, patch_size, num_heads, num_layers, dropout, extract_layers):\n",
        "        super().__init__()\n",
        "        self.embeddings = Embeddings(input_dim, embed_dim, cube_size, patch_size, dropout)\n",
        "        self.layer = nn.ModuleList()\n",
        "        self.encoder_norm = nn.LayerNorm(embed_dim, eps=1e-6)\n",
        "        self.extract_layers = extract_layers\n",
        "        for _ in range(num_layers):\n",
        "            layer = TransformerBlock(embed_dim, num_heads, dropout, cube_size, patch_size)\n",
        "            self.layer.append(copy.deepcopy(layer))\n",
        "\n",
        "    def forward(self, x):\n",
        "        extract_layers = []\n",
        "        hidden_states = self.embeddings(x)\n",
        "        for depth, layer_block in enumerate(self.layer):\n",
        "            hidden_states, _ = layer_block(hidden_states)\n",
        "            if depth + 1 in self.extract_layers:\n",
        "                extract_layers.append(hidden_states)\n",
        "\n",
        "        return extract_layers\n",
        "\n",
        "\n",
        "class UNETR(nn.Module):\n",
        "    def __init__(self, img_shape=(128, 64, 64), input_dim=3, output_dim=4, embed_dim=768, patch_size=16, num_heads=12, dropout=0.1):\n",
        "        super().__init__()\n",
        "        self.input_dim = input_dim\n",
        "        self.output_dim = output_dim\n",
        "        self.embed_dim = embed_dim\n",
        "        self.img_shape = img_shape\n",
        "        self.patch_size = patch_size\n",
        "        self.num_heads = num_heads\n",
        "        self.dropout = dropout\n",
        "        self.num_layers = 12\n",
        "        self.ext_layers = [3, 6, 9, 12]\n",
        "\n",
        "        self.patch_dim = [int(x / patch_size) for x in img_shape]\n",
        "\n",
        "        # Transformer Encoder\n",
        "        self.transformer = \\\n",
        "            Transformer(\n",
        "                input_dim,\n",
        "                embed_dim,\n",
        "                img_shape,\n",
        "                patch_size,\n",
        "                num_heads,\n",
        "                self.num_layers,\n",
        "                dropout,\n",
        "                self.ext_layers\n",
        "            )\n",
        "\n",
        "        # U-Net Decoder\n",
        "        self.decoder0 = \\\n",
        "            nn.Sequential(\n",
        "                Conv3DBlock(input_dim, 32, 3),\n",
        "                Conv3DBlock(32, 64, 3)\n",
        "            )\n",
        "\n",
        "        self.decoder3 = \\\n",
        "            nn.Sequential(\n",
        "                Deconv3DBlock(embed_dim, 512),\n",
        "                Deconv3DBlock(512, 256),\n",
        "                Deconv3DBlock(256, 128)\n",
        "            )\n",
        "\n",
        "        self.decoder6 = \\\n",
        "            nn.Sequential(\n",
        "                Deconv3DBlock(embed_dim, 512),\n",
        "                Deconv3DBlock(512, 256),\n",
        "            )\n",
        "\n",
        "        self.decoder9 = \\\n",
        "            Deconv3DBlock(embed_dim, 512)\n",
        "\n",
        "        self.decoder12_upsampler = \\\n",
        "            SingleDeconv3DBlock(embed_dim, 512)\n",
        "\n",
        "        self.decoder9_upsampler = \\\n",
        "            nn.Sequential(\n",
        "                Conv3DBlock(1024, 512),\n",
        "                Conv3DBlock(512, 512),\n",
        "                Conv3DBlock(512, 512),\n",
        "                SingleDeconv3DBlock(512, 256)\n",
        "            )\n",
        "\n",
        "        self.decoder6_upsampler = \\\n",
        "            nn.Sequential(\n",
        "                Conv3DBlock(512, 256),\n",
        "                Conv3DBlock(256, 256),\n",
        "                SingleDeconv3DBlock(256, 128)\n",
        "            )\n",
        "\n",
        "        self.decoder3_upsampler = \\\n",
        "            nn.Sequential(\n",
        "                Conv3DBlock(256, 128),\n",
        "                Conv3DBlock(128, 128),\n",
        "                SingleDeconv3DBlock(128, 64)\n",
        "            )\n",
        "\n",
        "        self.decoder0_header = \\\n",
        "            nn.Sequential(\n",
        "                Conv3DBlock(128, 64),\n",
        "                Conv3DBlock(64, 64),\n",
        "                SingleConv3DBlock(64, output_dim, 1)\n",
        "            )\n",
        "      \n",
        "    def forward(self, x):\n",
        "        z = self.transformer(x)\n",
        "        z0, z3, z6, z9, z12 = x, *z\n",
        "        z3 = z3.transpose(-1, -2).view(-1, self.embed_dim, *self.patch_dim)\n",
        "        z6 = z6.transpose(-1, -2).view(-1, self.embed_dim, *self.patch_dim)\n",
        "        z9 = z9.transpose(-1, -2).view(-1, self.embed_dim, *self.patch_dim)\n",
        "        z12 = z12.transpose(-1, -2).view(-1, self.embed_dim, *self.patch_dim)\n",
        "\n",
        "        z12 = self.decoder12_upsampler(z12)\n",
        "        z9 = self.decoder9(z9)\n",
        "        z9 = self.decoder9_upsampler(torch.cat([z9, z12], dim=1))\n",
        "        z6 = self.decoder6(z6)\n",
        "        z6 = self.decoder6_upsampler(torch.cat([z6, z9], dim=1))\n",
        "        z3 = self.decoder3(z3)\n",
        "        z3 = self.decoder3_upsampler(torch.cat([z3, z6], dim=1))\n",
        "        z0 = self.decoder0(z0)\n",
        "        output = self.decoder0_header(torch.cat([z0, z3], dim=1))\n",
        "        #sigmoidLayer = torch.nn.Sigmoid()\n",
        "        #output = torch.round(sigmoidLayer(output))\n",
        "        return output"
      ],
      "execution_count": null,
      "outputs": []
    },
    {
      "cell_type": "code",
      "metadata": {
        "id": "xTJ3IvhYAR4B"
      },
      "source": [
        "model = UNETR()"
      ],
      "execution_count": null,
      "outputs": []
    },
    {
      "cell_type": "code",
      "metadata": {
        "id": "AZDWqdpuFdoK"
      },
      "source": [
        "X_train = X_train.reshape((-1, 3, 128, 64, 64))\n",
        "y_train = y_train.reshape((-1, 128, 64, 64))"
      ],
      "execution_count": null,
      "outputs": []
    },
    {
      "cell_type": "code",
      "metadata": {
        "id": "BDw46YYzO3p_"
      },
      "source": [
        "X_test = X_test.reshape((-1, 3, 128, 64, 64))\n",
        "y_test = y_test.reshape((-1, 128, 64, 64))"
      ],
      "execution_count": null,
      "outputs": []
    },
    {
      "cell_type": "code",
      "metadata": {
        "id": "nOS7TKYabTnK"
      },
      "source": [
        "from torch.utils.data import TensorDataset, DataLoader"
      ],
      "execution_count": null,
      "outputs": []
    },
    {
      "cell_type": "code",
      "metadata": {
        "id": "KC5xItWiFjMV"
      },
      "source": [
        "tensor_x = torch.Tensor(X_train)\n",
        "tensor_y = torch.Tensor(y_train)\n",
        "tensor_y = tensor_y.type(torch.LongTensor)\n",
        "\n",
        "tensor_test_x = torch.Tensor(X_test)\n",
        "tensor_test_y = torch.Tensor(y_test)\n",
        "tensor_test_y = tensor_test_y.type(torch.LongTensor)"
      ],
      "execution_count": null,
      "outputs": []
    },
    {
      "cell_type": "code",
      "metadata": {
        "id": "C3b18-zUFsPj"
      },
      "source": [
        "my_dataset = TensorDataset(tensor_x,tensor_y)\n",
        "my_dataloader = DataLoader(my_dataset)\n",
        "\n",
        "my_dataset_test = TensorDataset(tensor_test_x,tensor_test_y)\n",
        "my_dataloader_test = DataLoader(my_dataset_test)"
      ],
      "execution_count": null,
      "outputs": []
    },
    {
      "cell_type": "code",
      "metadata": {
        "id": "vK1pPcEVF7lj"
      },
      "source": [
        "from numpy import vstack\n",
        "from pandas import read_csv\n",
        "from sklearn.preprocessing import LabelEncoder\n",
        "from sklearn.metrics import accuracy_score\n",
        "from torch.utils.data import Dataset\n",
        "from torch.utils.data import DataLoader\n",
        "from torch.utils.data import random_split\n",
        "from torch import Tensor\n",
        "from torch.nn import Linear\n",
        "from torch.nn import ReLU\n",
        "from torch.nn import Sigmoid\n",
        "from torch.nn import Module\n",
        "from torch.optim import SGD\n",
        "from torch.nn import BCELoss\n",
        "from torch.nn.init import kaiming_uniform_\n",
        "from torch.nn.init import xavier_uniform_"
      ],
      "execution_count": null,
      "outputs": []
    },
    {
      "cell_type": "code",
      "metadata": {
        "id": "oNzzAXdFOCQo"
      },
      "source": [
        "model = UNETR()"
      ],
      "execution_count": null,
      "outputs": []
    },
    {
      "cell_type": "code",
      "metadata": {
        "colab": {
          "base_uri": "https://localhost:8080/"
        },
        "id": "tW1vQyPOOQHu",
        "outputId": "0a7809db-2c16-4806-fe63-e3d4f3d25053"
      },
      "source": [
        "model.load_state_dict(torch.load('/content/drive/MyDrive/swin_model_weights_705.pth'))"
      ],
      "execution_count": null,
      "outputs": [
        {
          "output_type": "execute_result",
          "data": {
            "text/plain": [
              "<All keys matched successfully>"
            ]
          },
          "metadata": {},
          "execution_count": 7
        }
      ]
    },
    {
      "cell_type": "code",
      "metadata": {
        "id": "HfI29GnZPznX"
      },
      "source": [
        "def multi_acc(y_pred, y_test):\n",
        "    y_pred = y_pred[:, 0, :, :, :] + y_pred[:, 1, :, :, :] + y_pred[:, 2, :, :, :] + y_pred[:, 3, :, :, :]\n",
        "    y_pred = torch.round(torch.sigmoid(y_pred) * 3)\n",
        "    y_pred = torch.flatten(y_pred)\n",
        "    y_test = torch.flatten(y_test)\n",
        "    correct_pred = (y_pred == y_test).float()\n",
        "    acc = correct_pred.sum() / len(y_pred)\n",
        "    return acc"
      ],
      "execution_count": null,
      "outputs": []
    },
    {
      "cell_type": "code",
      "metadata": {
        "id": "i9hfsw13eV1a"
      },
      "source": [
        "def IoU(y_pred, y_test):\n",
        "    y_pred = y_pred[:, 0, :, :, :] + y_pred[:, 1, :, :, :] + y_pred[:, 2, :, :, :] + y_pred[:, 3, :, :, :]\n",
        "    y_pred = torch.flatten(y_pred).cpu().detach().numpy()\n",
        "    y_test = torch.flatten(y_test).cpu().detach().numpy()\n",
        "    y_pred = np.around(3.0/(1 + np.exp(-y_pred)))\n",
        "    print(y_pred.shape)\n",
        "    print(y_test.shape)\n",
        "    print(np.unique(y_pred))\n",
        "    print(np.unique(y_test))\n",
        "    inter = 0\n",
        "    union = 0\n",
        "    for i in range(0, len(y_pred)):\n",
        "        if (y_pred[i] == y_test[i] and y_pred[i] != 0):\n",
        "            inter += 1\n",
        "            union += 1\n",
        "        elif (y_pred[i] + y_test[i] >= 1):\n",
        "            union += 1\n",
        "    return inter * 1.0 / union"
      ],
      "execution_count": null,
      "outputs": []
    },
    {
      "cell_type": "code",
      "metadata": {
        "id": "KsPUgWlmRLl5"
      },
      "source": [
        "from tqdm.notebook import tqdm"
      ],
      "execution_count": null,
      "outputs": []
    },
    {
      "cell_type": "code",
      "metadata": {
        "id": "B-ShJ4HLSQSa"
      },
      "source": [
        "device = torch.device(\"cuda:0\" if torch.cuda.is_available() else \"cpu\")"
      ],
      "execution_count": null,
      "outputs": []
    },
    {
      "cell_type": "code",
      "metadata": {
        "id": "TYB0b_Wcg_6G"
      },
      "source": [
        "criterion = torch.nn.CrossEntropyLoss()\n",
        "optimizer = torch.optim.Adam(model.parameters(), lr=0.001)"
      ],
      "execution_count": null,
      "outputs": []
    },
    {
      "cell_type": "code",
      "metadata": {
        "id": "u3vB4Iz3zrlZ"
      },
      "source": [
        "model = model.cuda()"
      ],
      "execution_count": null,
      "outputs": []
    },
    {
      "cell_type": "code",
      "metadata": {
        "id": "--BJZKJSL4xx"
      },
      "source": [
        "model = UNETR()"
      ],
      "execution_count": null,
      "outputs": []
    },
    {
      "cell_type": "code",
      "metadata": {
        "id": "ToPxkbsz4xRg"
      },
      "source": [
        "for e in tqdm(range(1, 100+1)):\n",
        "    \n",
        "    # TRAINING\n",
        "    train_epoch_loss = 0\n",
        "    train_epoch_acc = 0 \n",
        "    \n",
        "    model.train()\n",
        "    batch_num = 0\n",
        "\n",
        "    for X_train_batch, y_train_batch in my_dataloader:\n",
        "        batch_num += 1\n",
        "        X_train_batch, y_train_batch = X_train_batch.to(device), y_train_batch.to(device)\n",
        "        optimizer.zero_grad()\n",
        "        \n",
        "        y_train_pred = model(X_train_batch)\n",
        "        train_loss = criterion(y_train_pred, y_train_batch)\n",
        "        train_acc = multi_acc(y_train_pred, y_train_batch)\n",
        "        IoU_acc = IoU(y_train_pred, y_train_batch)\n",
        "        print(\"Epoch : \", e, \"| Batch \", batch_num, \"| Loss : \", round(train_loss.item(), 3), \"| Accuracy : \", round(train_acc.item(), 6), \"| IoU : \", round(IoU_acc, 6))\n",
        "\n",
        "        train_loss.backward()\n",
        "        optimizer.step()\n",
        "        \n",
        "        train_epoch_loss += train_loss.item()\n",
        "        train_epoch_acc += train_acc.item()\n",
        "    torch.save(model.state_dict(), '/content/drive/MyDrive/swin_model_weights_' + str(e + 600) + '.pth')    \n",
        " \n",
        "    # VALIDATION    \n",
        "    with torch.no_grad():\n",
        "        \n",
        "        val_epoch_loss = 0\n",
        "        val_epoch_acc = 0\n",
        "        \n",
        "        model.eval()\n",
        "        for X_val_batch, y_val_batch in my_dataloader_test:\n",
        "            X_val_batch, y_val_batch = X_val_batch.to(device), y_val_batch.to(device)\n",
        "            \n",
        "            y_val_pred = model(X_val_batch)\n",
        "                        \n",
        "            val_loss = criterion(y_val_pred, y_val_batch)\n",
        "            val_acc = multi_acc(y_val_pred, y_val_batch)\n",
        "            IoU_acc = IoU(y_val_pred, y_val_batch)\n",
        "\n",
        "            val_epoch_loss += val_loss.item()\n",
        "            val_epoch_acc += val_acc.item() \n",
        "            print(\"Epoch : \", e, \"| Batch \", batch_num, \"| Loss : \", round(val_loss.item(), 3), \"| Accuracy : \", round(val_acc.item(), 6), \"| IoU : \", round(IoU_acc, 6))\n",
        "                      \n",
        "    #print(f'Epoch {e+0:03}: | Train Loss: {train_epoch_loss/len(my_dataloader):.5f} | Train Acc: {train_epoch_acc/len(my_dataloader):.3f}')\n",
        "    print(f'Epoch {e+0:03}: | Train Loss: {train_epoch_loss/len(my_dataloader):.5f} | Val Loss: {val_epoch_loss/len(my_dataloader_test):.5f} | Train Acc: {train_epoch_acc/len(my_dataloader):.3f}| Val Acc: {val_epoch_acc/len(my_dataloader_test):.3f}')"
      ],
      "execution_count": null,
      "outputs": []
    },
    {
      "cell_type": "code",
      "metadata": {
        "id": "OvCWsm9Ky5Ap"
      },
      "source": [
        "test_images = np.load(\"/content/drive/MyDrive/test_set.npy\")\n",
        "test_masks = np.load(\"/content/drive/MyDrive/test_set_masks.npy\")"
      ],
      "execution_count": null,
      "outputs": []
    },
    {
      "cell_type": "code",
      "metadata": {
        "colab": {
          "base_uri": "https://localhost:8080/"
        },
        "id": "IHfm4U2taa3U",
        "outputId": "d11de1cf-566f-43cd-a508-46a6088e91fb"
      },
      "source": [
        "print(test_images.shape)\n",
        "print(test_masks.shape)"
      ],
      "execution_count": null,
      "outputs": [
        {
          "output_type": "stream",
          "name": "stdout",
          "text": [
            "(5, 128, 64, 64, 3)\n",
            "(5, 128, 64, 64)\n"
          ]
        }
      ]
    },
    {
      "cell_type": "code",
      "metadata": {
        "id": "y1tZFO_EWZCi"
      },
      "source": [
        "small_test_images = test_images.reshape((-1, 3, 128, 64, 64))\n",
        "small_test_masks = test_masks.reshape((-1, 128, 64, 64))"
      ],
      "execution_count": null,
      "outputs": []
    },
    {
      "cell_type": "code",
      "metadata": {
        "id": "Y8-UuWG4YhMV"
      },
      "source": [
        "tensor_test_x = torch.Tensor(small_test_images)\n",
        "tensor_test_y = torch.Tensor(small_test_masks)\n",
        "tensor_test_y = tensor_test_y.type(torch.LongTensor)"
      ],
      "execution_count": null,
      "outputs": []
    },
    {
      "cell_type": "code",
      "metadata": {
        "id": "0QBgCdB7Ywmn"
      },
      "source": [
        "my_test_dataset = TensorDataset(tensor_test_x,tensor_test_y)\n",
        "my_test_dataloader = DataLoader(my_test_dataset)"
      ],
      "execution_count": null,
      "outputs": []
    },
    {
      "cell_type": "code",
      "metadata": {
        "colab": {
          "base_uri": "https://localhost:8080/"
        },
        "id": "4qKB_iBrY53_",
        "outputId": "d609b104-bfcd-4437-ae4d-9a5528f20c25"
      },
      "source": [
        "print(\"Testing ... \")\n",
        "batch_num = 0\n",
        "for_saving_pred = []\n",
        "for_saving_act = []\n",
        "for X_train_batch, y_train_batch in my_test_dataloader:\n",
        "    batch_num += 1\n",
        "    X_train_batch, y_train_batch = X_train_batch.to(device), y_train_batch.to(device)\n",
        "    y_train_pred = model(X_train_batch)\n",
        "    train_acc = multi_acc(y_train_pred, y_train_batch)\n",
        "    for_saving_pred.append(y_train_pred.detach().cpu().numpy())\n",
        "    for_saving_act.append(y_train_batch.detach().cpu().numpy())\n",
        "    #print(\"Batch \", batch_num, \"| Accuracy : \", round(train_acc.item(), 3))"
      ],
      "execution_count": null,
      "outputs": [
        {
          "output_type": "stream",
          "name": "stdout",
          "text": [
            "Testing ... \n"
          ]
        }
      ]
    },
    {
      "cell_type": "code",
      "metadata": {
        "id": "bt6mY6QzcOoB"
      },
      "source": [
        "for_saving_pred = np.array(for_saving_pred)\n",
        "for_saving_act = np.array(for_saving_act)"
      ],
      "execution_count": null,
      "outputs": []
    },
    {
      "cell_type": "code",
      "metadata": {
        "id": "Ww79ppk40-Ff"
      },
      "source": [
        "for_saving_pred = for_saving_pred[:, :, 0, :, :, :] + for_saving_pred[:, :, 1, :, :, :] + for_saving_pred[:, :, 2, :, :, :] + for_saving_pred[:, :, 3, :, :, :]\n",
        "for_saving_pred = np.around(6.0/(1 + np.exp(-for_saving_pred)))"
      ],
      "execution_count": null,
      "outputs": []
    },
    {
      "cell_type": "code",
      "metadata": {
        "colab": {
          "base_uri": "https://localhost:8080/"
        },
        "id": "rAYQxC2T2F4C",
        "outputId": "386c6650-17d5-473a-c13a-1a018deeefed"
      },
      "source": [
        "np.unique(for_saving_pred)"
      ],
      "execution_count": null,
      "outputs": [
        {
          "output_type": "execute_result",
          "data": {
            "text/plain": [
              "array([0., 1., 2., 3.], dtype=float32)"
            ]
          },
          "metadata": {},
          "execution_count": 85
        }
      ]
    },
    {
      "cell_type": "code",
      "metadata": {
        "id": "OHNDYwm83Kw8"
      },
      "source": [
        "predictions = np.load(\"/content/drive/MyDrive/predictions.npy\")\n",
        "predictions = np.argmax(predictions, axis = 4)"
      ],
      "execution_count": null,
      "outputs": []
    },
    {
      "cell_type": "code",
      "metadata": {
        "colab": {
          "base_uri": "https://localhost:8080/",
          "height": 641
        },
        "id": "OghSX8Ru4qZI",
        "outputId": "5c6b4645-a8bb-4c14-a29f-c3a51fefc3a8"
      },
      "source": [
        "print(\"Qualitative Results Obtained\")\n",
        "fig, axarr = plt.subplots(2,2)\n",
        "fig.set_size_inches(10, 10)\n",
        "axarr[0,0].imshow(test_images[0][43])\n",
        "axarr[0,0].set_title('Test 2D Slice')\n",
        "axarr[0,1].imshow(predictions[0, 43])\n",
        "axarr[0,1].set_title('Attention Residual U-Net Predictions')\n",
        "axarr[1,0].imshow(for_saving_pred[0, 0, 43])\n",
        "axarr[1,0].set_title('UNETR Predictions')\n",
        "axarr[1,1].imshow(for_saving_act[0, 0, 43])\n",
        "axarr[1,1].set_title('True Classification')"
      ],
      "execution_count": null,
      "outputs": [
        {
          "output_type": "stream",
          "name": "stdout",
          "text": [
            "Qualitative Results Obtained\n"
          ]
        },
        {
          "output_type": "execute_result",
          "data": {
            "text/plain": [
              "Text(0.5, 1.0, 'True Classification')"
            ]
          },
          "metadata": {},
          "execution_count": 115
        },
        {
          "output_type": "display_data",
          "data": {
            "image/png": "[encoded data removed]",
            "text/plain": [
              "<Figure size 720x720 with 4 Axes>"
            ]
          },
          "metadata": {
            "needs_background": "light"
          }
        }
      ]
    },
    {
      "cell_type": "code",
      "metadata": {
        "id": "SqXaVDIZ5fsk"
      },
      "source": [
        "test_images_flattened = test_images.flatten()\n",
        "attn_predictions_flattened = predictions.flatten()\n",
        "unetr_predictions_flattened = for_saving_pred.flatten()\n",
        "true_flattened = for_saving_act.flatten()"
      ],
      "execution_count": null,
      "outputs": []
    },
    {
      "cell_type": "code",
      "metadata": {
        "id": "3g2j8MUI9wIx"
      },
      "source": [
        "pytorch_total_params = sum(p.numel() for p in model.parameters() if p.requires_grad)"
      ],
      "execution_count": null,
      "outputs": []
    },
    {
      "cell_type": "code",
      "metadata": {
        "colab": {
          "base_uri": "https://localhost:8080/"
        },
        "id": "HRe9rr5n9xRp",
        "outputId": "0f0d0bd7-356f-4825-894f-b40308c7c01a"
      },
      "source": [
        "pytorch_total_params"
      ],
      "execution_count": null,
      "outputs": [
        {
          "output_type": "execute_result",
          "data": {
            "text/plain": [
              "152593284"
            ]
          },
          "metadata": {},
          "execution_count": 151
        }
      ]
    },
    {
      "cell_type": "code",
      "metadata": {
        "id": "WEY9hfAK922C"
      },
      "source": [
        "152,593,284"
      ],
      "execution_count": null,
      "outputs": []
    },
    {
      "cell_type": "code",
      "metadata": {
        "colab": {
          "base_uri": "https://localhost:8080/"
        },
        "id": "hm96S4gz5z5B",
        "outputId": "a1a12cd4-d099-4b97-c21f-a7ca892f8741"
      },
      "source": [
        "key = 1\n",
        "inter_attn = 0.0\n",
        "union_attn = 0.0\n",
        "for i in range(0, len(true_flattened)):\n",
        "    if (true_flattened[i] == key):\n",
        "        if (true_flattened[i] == attn_predictions_flattened[i]):\n",
        "            inter_attn += 1\n",
        "        union_attn += 1\n",
        "inter_attn/union_attn"
      ],
      "execution_count": null,
      "outputs": [
        {
          "output_type": "execute_result",
          "data": {
            "text/plain": [
              "0.27930424914340585"
            ]
          },
          "metadata": {},
          "execution_count": 149
        }
      ]
    },
    {
      "cell_type": "code",
      "metadata": {
        "colab": {
          "base_uri": "https://localhost:8080/"
        },
        "id": "7pIFUVzW6kOU",
        "outputId": "7d4c9ffd-f86c-4260-9499-041d9f38f121"
      },
      "source": [
        "key = 3\n",
        "inter_attn = 0.0\n",
        "union_attn = 0.0\n",
        "for i in range(0, len(true_flattened)):\n",
        "    if (true_flattened[i] == key):\n",
        "        if (true_flattened[i] == unetr_predictions_flattened[i]):\n",
        "            inter_attn += 1\n",
        "        union_attn += 1\n",
        "inter_attn/union_attn"
      ],
      "execution_count": null,
      "outputs": [
        {
          "output_type": "execute_result",
          "data": {
            "text/plain": [
              "0.06101373756513501"
            ]
          },
          "metadata": {},
          "execution_count": 146
        }
      ]
    }
  ]
}